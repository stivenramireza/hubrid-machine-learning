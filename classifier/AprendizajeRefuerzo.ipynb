{
 "cells": [
  {
   "cell_type": "raw",
   "metadata": {},
   "source": [
    "#La propuesta es usar Collaborative Filtering Para crear el sistema de recomendación!\n",
    "Paso 1:\n",
    "    tomar todos los contenidos y asignarles una puntuación, inicialmente \n",
    "    puede ser basada en el tiempo que permanezcan los usarios en el contenido dividido \n",
    "    el tiempo maximo del contenido\n",
    "    Las columnas serían (Usuario, contenido1, contenido2, ..., contenidoN)\n",
    "\n",
    "Paso 2:\n",
    "    recomendar por similitud en los contenidos, basada en el tiempo que permanecio en los           contenidos y los contenidos que selecciono en favoritos.\n",
    "\n",
    "Paso 3:\n",
    "    Recomendar basada en la edad, genero y gustos seleccionados previamente, usando como valor\n",
    "    final la puntuación del paso 1.\n"
   ]
  },
  {
   "cell_type": "code",
   "execution_count": 1,
   "metadata": {},
   "outputs": [],
   "source": [
    "#Antes de iniciar instalar\n",
    "#pip3 install pydotplus\n",
    "#pip3 install sklearn\n",
    "#pip3 install pandas\n",
    "#pip3 install numpy\n",
    "#pip3 install matplotlib\n",
    "#pip3 install seaborn"
   ]
  },
  {
   "cell_type": "code",
   "execution_count": 2,
   "metadata": {},
   "outputs": [],
   "source": [
    "import pandas as pd\n",
    "import numpy as np\n",
    "from sklearn.metrics import mean_squared_error\n",
    "from sklearn.model_selection import train_test_split\n",
    "from sklearn.neighbors import NearestNeighbors\n",
    "import matplotlib.pyplot as plt\n",
    "import sklearn\n",
    "import random"
   ]
  },
  {
   "cell_type": "code",
   "execution_count": 3,
   "metadata": {},
   "outputs": [
    {
     "name": "stdout",
     "output_type": "stream",
     "text": [
      "   Unnamed: 0  1  jsanch81@eafit.edu.co       Jose\n",
      "0           0  2    zeatgomez@gmail.com      sebas\n",
      "1           1  3  sgomezp1@eafit.edu.co  Sebastian\n",
      "2           2  4     mstabare@gmail.com      Marta\n",
      "3           3  5  dantivar@eafit.edu.co      Duvan\n",
      "4           4  6     ivanpaez@gmail.com       IVAN\n",
      "   Unnamed: 0  19                   Data preparation for Data Mining     pdf  \\\n",
      "0           0   1                                   Machine Learning  imagen   \n",
      "1           1   2  Data Science vs Data Analytics vs Machine Lear...  imagen   \n",
      "2           2   3                              Data Scientist skills  imagen   \n",
      "3           3   4                                   Hadoop Ecosystem  imagen   \n",
      "4           4   5                                    Data Processing  imagen   \n",
      "\n",
      "     3  \n",
      "0  4.0  \n",
      "1  2.0  \n",
      "2  9.0  \n",
      "3  1.0  \n",
      "4  6.0  \n",
      "   Unnamed: 0  userId  contenidoId  raiting\n",
      "0           0       2            1        6\n",
      "1           1       2            2        6\n",
      "2           2       2            3        7\n",
      "3           3       2            4        3\n",
      "4           4       2            5        3\n"
     ]
    }
   ],
   "source": [
    "df_users = pd.read_csv(\"../datasets/users.csv\")\n",
    "df_repos = pd.read_csv(\"../datasets/repos.csv\")\n",
    "df_ratings = pd.read_csv(\"../datasets/raitings.csv\")\n",
    "print(df_users.head())\n",
    "print(df_repos.head())\n",
    "print(df_ratings.head())"
   ]
  },
  {
   "cell_type": "code",
   "execution_count": 4,
   "metadata": {},
   "outputs": [
    {
     "data": {
      "text/plain": [
       "['Unnamed: 0', '1', 'jsanch81@eafit.edu.co', 'Jose']"
      ]
     },
     "execution_count": 4,
     "metadata": {},
     "output_type": "execute_result"
    }
   ],
   "source": [
    "list(df_users)"
   ]
  },
  {
   "cell_type": "code",
   "execution_count": 5,
   "metadata": {},
   "outputs": [
    {
     "data": {
      "text/plain": [
       "['Unnamed: 0', '19', 'Data preparation for Data Mining', 'pdf', '3']"
      ]
     },
     "execution_count": 5,
     "metadata": {},
     "output_type": "execute_result"
    }
   ],
   "source": [
    "list(df_repos)"
   ]
  },
  {
   "cell_type": "code",
   "execution_count": 6,
   "metadata": {},
   "outputs": [
    {
     "data": {
      "text/plain": [
       "['Unnamed: 0', 'userId', 'contenidoId', 'raiting']"
      ]
     },
     "execution_count": 6,
     "metadata": {},
     "output_type": "execute_result"
    }
   ],
   "source": [
    "list(df_ratings)"
   ]
  },
  {
   "cell_type": "code",
   "execution_count": 7,
   "metadata": {},
   "outputs": [],
   "source": [
    "del df_users['Unnamed: 0']\n",
    "del df_repos['Unnamed: 0']\n",
    "del df_ratings['Unnamed: 0']"
   ]
  },
  {
   "cell_type": "code",
   "execution_count": 8,
   "metadata": {},
   "outputs": [],
   "source": [
    "#se deja, userID = 1, username= correo, name= jose \n",
    "#list(df_users)\n",
    "#se dejaen repos, contenidoId = 19, tittle= Data preparation for Data Mining, categoría= pdf, 3= stars\n",
    "#list(df_repos)\n",
    "#\tuserId\tcontenidoId\traiting\n",
    "#list(df_ratings)"
   ]
  },
  {
   "cell_type": "code",
   "execution_count": 9,
   "metadata": {},
   "outputs": [
    {
     "name": "stdout",
     "output_type": "stream",
     "text": [
      "   1  jsanch81@eafit.edu.co       Jose\n",
      "0  2    zeatgomez@gmail.com      sebas\n",
      "1  3  sgomezp1@eafit.edu.co  Sebastian\n",
      "2  4     mstabare@gmail.com      Marta\n",
      "3  5  dantivar@eafit.edu.co      Duvan\n",
      "4  6     ivanpaez@gmail.com       IVAN\n",
      "   19                   Data preparation for Data Mining     pdf    3\n",
      "0   1                                   Machine Learning  imagen  4.0\n",
      "1   2  Data Science vs Data Analytics vs Machine Lear...  imagen  2.0\n",
      "2   3                              Data Scientist skills  imagen  9.0\n",
      "3   4                                   Hadoop Ecosystem  imagen  1.0\n",
      "4   5                                    Data Processing  imagen  6.0\n",
      "   userId  contenidoId  raiting\n",
      "0       2            1        6\n",
      "1       2            2        6\n",
      "2       2            3        7\n",
      "3       2            4        3\n",
      "4       2            5        3\n"
     ]
    }
   ],
   "source": [
    "print(df_users.head())\n",
    "print(df_repos.head())\n",
    "print(df_ratings.head())"
   ]
  },
  {
   "cell_type": "code",
   "execution_count": 10,
   "metadata": {},
   "outputs": [
    {
     "name": "stdout",
     "output_type": "stream",
     "text": [
      "6 users\n",
      "19 items\n"
     ]
    }
   ],
   "source": [
    "n_users = df_ratings.userId.unique().shape[0]\n",
    "n_items = df_ratings.contenidoId.unique().shape[0]\n",
    "print (str(n_users) + ' users')\n",
    "print (str(n_items) + ' items')"
   ]
  },
  {
   "cell_type": "code",
   "execution_count": 11,
   "metadata": {},
   "outputs": [
    {
     "data": {
      "text/plain": [
       "(array([15., 16.,  8., 14.,  7., 13.,  7.,  8., 10., 16.]),\n",
       " array([0. , 0.9, 1.8, 2.7, 3.6, 4.5, 5.4, 6.3, 7.2, 8.1, 9. ]),\n",
       " <a list of 10 Patch objects>)"
      ]
     },
     "execution_count": 11,
     "metadata": {},
     "output_type": "execute_result"
    },
    {
     "data": {
      "image/png": "[encoded data removed]",
      "text/plain": [
       "<Figure size 432x288 with 1 Axes>"
      ]
     },
     "metadata": {
      "needs_background": "light"
     },
     "output_type": "display_data"
    }
   ],
   "source": [
    "#un historico grafico del raiting de los 114 elementos\n",
    "plt.hist(df_ratings.raiting,bins=10)"
   ]
  },
  {
   "cell_type": "code",
   "execution_count": 12,
   "metadata": {},
   "outputs": [
    {
     "data": {
      "text/plain": [
       "raiting\n",
       "0    15\n",
       "1    16\n",
       "2     8\n",
       "3    14\n",
       "4     7\n",
       "5    13\n",
       "6     7\n",
       "7     8\n",
       "8    10\n",
       "9    16\n",
       "Name: userId, dtype: int64"
      ]
     },
     "execution_count": 12,
     "metadata": {},
     "output_type": "execute_result"
    }
   ],
   "source": [
    "#Para ver las puntuaciones exactas\n",
    "df_ratings.groupby([\"raiting\"])[\"userId\"].count()"
   ]
  },
  {
   "cell_type": "code",
   "execution_count": 13,
   "metadata": {},
   "outputs": [
    {
     "data": {
      "text/html": [
       "<div>\n",
       "<style scoped>\n",
       "    .dataframe tbody tr th:only-of-type {\n",
       "        vertical-align: middle;\n",
       "    }\n",
       "\n",
       "    .dataframe tbody tr th {\n",
       "        vertical-align: top;\n",
       "    }\n",
       "\n",
       "    .dataframe thead th {\n",
       "        text-align: right;\n",
       "    }\n",
       "</style>\n",
       "<table border=\"1\" class=\"dataframe\">\n",
       "  <thead>\n",
       "    <tr style=\"text-align: right;\">\n",
       "      <th>contenidoId</th>\n",
       "      <th>1</th>\n",
       "      <th>2</th>\n",
       "      <th>3</th>\n",
       "      <th>4</th>\n",
       "      <th>5</th>\n",
       "      <th>6</th>\n",
       "      <th>7</th>\n",
       "      <th>8</th>\n",
       "      <th>9</th>\n",
       "      <th>10</th>\n",
       "      <th>11</th>\n",
       "      <th>12</th>\n",
       "      <th>13</th>\n",
       "      <th>14</th>\n",
       "      <th>15</th>\n",
       "      <th>16</th>\n",
       "      <th>17</th>\n",
       "      <th>18</th>\n",
       "      <th>20</th>\n",
       "    </tr>\n",
       "    <tr>\n",
       "      <th>userId</th>\n",
       "      <th></th>\n",
       "      <th></th>\n",
       "      <th></th>\n",
       "      <th></th>\n",
       "      <th></th>\n",
       "      <th></th>\n",
       "      <th></th>\n",
       "      <th></th>\n",
       "      <th></th>\n",
       "      <th></th>\n",
       "      <th></th>\n",
       "      <th></th>\n",
       "      <th></th>\n",
       "      <th></th>\n",
       "      <th></th>\n",
       "      <th></th>\n",
       "      <th></th>\n",
       "      <th></th>\n",
       "      <th></th>\n",
       "    </tr>\n",
       "  </thead>\n",
       "  <tbody>\n",
       "    <tr>\n",
       "      <th>2</th>\n",
       "      <td>6</td>\n",
       "      <td>6</td>\n",
       "      <td>7</td>\n",
       "      <td>3</td>\n",
       "      <td>3</td>\n",
       "      <td>0</td>\n",
       "      <td>5</td>\n",
       "      <td>7</td>\n",
       "      <td>0</td>\n",
       "      <td>1</td>\n",
       "      <td>5</td>\n",
       "      <td>2</td>\n",
       "      <td>1</td>\n",
       "      <td>0</td>\n",
       "      <td>9</td>\n",
       "      <td>7</td>\n",
       "      <td>0</td>\n",
       "      <td>4</td>\n",
       "      <td>1</td>\n",
       "    </tr>\n",
       "    <tr>\n",
       "      <th>3</th>\n",
       "      <td>8</td>\n",
       "      <td>4</td>\n",
       "      <td>4</td>\n",
       "      <td>8</td>\n",
       "      <td>3</td>\n",
       "      <td>4</td>\n",
       "      <td>0</td>\n",
       "      <td>5</td>\n",
       "      <td>3</td>\n",
       "      <td>7</td>\n",
       "      <td>5</td>\n",
       "      <td>7</td>\n",
       "      <td>6</td>\n",
       "      <td>7</td>\n",
       "      <td>0</td>\n",
       "      <td>9</td>\n",
       "      <td>1</td>\n",
       "      <td>6</td>\n",
       "      <td>9</td>\n",
       "    </tr>\n",
       "    <tr>\n",
       "      <th>4</th>\n",
       "      <td>9</td>\n",
       "      <td>0</td>\n",
       "      <td>9</td>\n",
       "      <td>1</td>\n",
       "      <td>1</td>\n",
       "      <td>9</td>\n",
       "      <td>3</td>\n",
       "      <td>0</td>\n",
       "      <td>9</td>\n",
       "      <td>9</td>\n",
       "      <td>1</td>\n",
       "      <td>5</td>\n",
       "      <td>2</td>\n",
       "      <td>3</td>\n",
       "      <td>1</td>\n",
       "      <td>9</td>\n",
       "      <td>2</td>\n",
       "      <td>1</td>\n",
       "      <td>1</td>\n",
       "    </tr>\n",
       "    <tr>\n",
       "      <th>5</th>\n",
       "      <td>2</td>\n",
       "      <td>0</td>\n",
       "      <td>3</td>\n",
       "      <td>8</td>\n",
       "      <td>9</td>\n",
       "      <td>2</td>\n",
       "      <td>9</td>\n",
       "      <td>1</td>\n",
       "      <td>1</td>\n",
       "      <td>5</td>\n",
       "      <td>6</td>\n",
       "      <td>5</td>\n",
       "      <td>2</td>\n",
       "      <td>6</td>\n",
       "      <td>9</td>\n",
       "      <td>1</td>\n",
       "      <td>0</td>\n",
       "      <td>4</td>\n",
       "      <td>8</td>\n",
       "    </tr>\n",
       "    <tr>\n",
       "      <th>6</th>\n",
       "      <td>3</td>\n",
       "      <td>0</td>\n",
       "      <td>9</td>\n",
       "      <td>8</td>\n",
       "      <td>1</td>\n",
       "      <td>7</td>\n",
       "      <td>3</td>\n",
       "      <td>3</td>\n",
       "      <td>5</td>\n",
       "      <td>5</td>\n",
       "      <td>7</td>\n",
       "      <td>3</td>\n",
       "      <td>8</td>\n",
       "      <td>0</td>\n",
       "      <td>5</td>\n",
       "      <td>3</td>\n",
       "      <td>9</td>\n",
       "      <td>2</td>\n",
       "      <td>6</td>\n",
       "    </tr>\n",
       "    <tr>\n",
       "      <th>7</th>\n",
       "      <td>3</td>\n",
       "      <td>9</td>\n",
       "      <td>8</td>\n",
       "      <td>1</td>\n",
       "      <td>9</td>\n",
       "      <td>0</td>\n",
       "      <td>2</td>\n",
       "      <td>5</td>\n",
       "      <td>8</td>\n",
       "      <td>8</td>\n",
       "      <td>4</td>\n",
       "      <td>8</td>\n",
       "      <td>5</td>\n",
       "      <td>0</td>\n",
       "      <td>0</td>\n",
       "      <td>3</td>\n",
       "      <td>1</td>\n",
       "      <td>4</td>\n",
       "      <td>5</td>\n",
       "    </tr>\n",
       "  </tbody>\n",
       "</table>\n",
       "</div>"
      ],
      "text/plain": [
       "contenidoId  1   2   3   4   5   6   7   8   9   10  11  12  13  14  15  16  \\\n",
       "userId                                                                        \n",
       "2             6   6   7   3   3   0   5   7   0   1   5   2   1   0   9   7   \n",
       "3             8   4   4   8   3   4   0   5   3   7   5   7   6   7   0   9   \n",
       "4             9   0   9   1   1   9   3   0   9   9   1   5   2   3   1   9   \n",
       "5             2   0   3   8   9   2   9   1   1   5   6   5   2   6   9   1   \n",
       "6             3   0   9   8   1   7   3   3   5   5   7   3   8   0   5   3   \n",
       "7             3   9   8   1   9   0   2   5   8   8   4   8   5   0   0   3   \n",
       "\n",
       "contenidoId  17  18  20  \n",
       "userId                   \n",
       "2             0   4   1  \n",
       "3             1   6   9  \n",
       "4             2   1   1  \n",
       "5             0   4   8  \n",
       "6             9   2   6  \n",
       "7             1   4   5  "
      ]
     },
     "execution_count": 13,
     "metadata": {},
     "output_type": "execute_result"
    }
   ],
   "source": [
    "#Matriz de usuarios y raiting\n",
    "df_matrix = pd.pivot_table(df_ratings, values='raiting', index='userId', columns='contenidoId').fillna(0)\n",
    "df_matrix"
   ]
  },
  {
   "cell_type": "code",
   "execution_count": 14,
   "metadata": {},
   "outputs": [
    {
     "name": "stdout",
     "output_type": "stream",
     "text": [
      "Sparsity: 86.84%\n"
     ]
    }
   ],
   "source": [
    "#Porcentaje de esparción\n",
    "#Entre más bajito más ceros que llenar\n",
    "ratings = df_matrix.values\n",
    "sparsity = float(len(ratings.nonzero()[0]))\n",
    "sparsity /= (ratings.shape[0] * ratings.shape[1])\n",
    "sparsity *= 100\n",
    "print('Sparsity: {:4.2f}%'.format(sparsity))"
   ]
  },
  {
   "cell_type": "code",
   "execution_count": 15,
   "metadata": {},
   "outputs": [
    {
     "name": "stdout",
     "output_type": "stream",
     "text": [
      "(4, 19)\n",
      "(2, 19)\n"
     ]
    }
   ],
   "source": [
    "#División de datos para entrenamiento y pruebas\n",
    "ratings_train, ratings_test = train_test_split(ratings, test_size = 0.2, random_state=33)\n",
    "print(ratings_train.shape)\n",
    "print(ratings_test.shape)"
   ]
  },
  {
   "cell_type": "code",
   "execution_count": 16,
   "metadata": {},
   "outputs": [
    {
     "name": "stdout",
     "output_type": "stream",
     "text": [
      "(6, 6)\n"
     ]
    }
   ],
   "source": [
    "#Hallamos la matriz de similitud entre los usuarios, esta vez usando coseno\n",
    "sim_matrix = 1 - sklearn.metrics.pairwise.cosine_distances(ratings)\n",
    "print(sim_matrix.shape)"
   ]
  },
  {
   "cell_type": "code",
   "execution_count": 17,
   "metadata": {},
   "outputs": [
    {
     "data": {
      "image/png": "[encoded data removed]",
      "text/plain": [
       "<Figure size 432x288 with 2 Axes>"
      ]
     },
     "metadata": {
      "needs_background": "light"
     },
     "output_type": "display_data"
    }
   ],
   "source": [
    "#Entre más cercano sea el valor a 1, mayor similitud tendran los usuarios\n",
    "plt.imshow(sim_matrix);\n",
    "plt.colorbar()\n",
    "plt.show()"
   ]
  },
  {
   "cell_type": "code",
   "execution_count": 18,
   "metadata": {},
   "outputs": [],
   "source": [
    "#se separan las filas y columnas de train y test\n",
    "#usuarios\n",
    "sim_matrix_train = sim_matrix[0:6,0:4]\n",
    "#contenido\n",
    "sim_matrix_test = sim_matrix[0:19,0:4]\n",
    "\n",
    "\n",
    "users_predictions = sim_matrix_train.dot(ratings_train) / np.array([np.abs(sim_matrix_train).sum(axis=1)]).T"
   ]
  },
  {
   "cell_type": "code",
   "execution_count": 19,
   "metadata": {},
   "outputs": [
    {
     "data": {
      "image/png": "[encoded data removed]",
      "text/plain": [
       "<Figure size 1368x432 with 2 Axes>"
      ]
     },
     "metadata": {
      "needs_background": "light"
     },
     "output_type": "display_data"
    }
   ],
   "source": [
    "#Entre más alto puntee, significa que es una mejor recomendación\n",
    "plt.rcParams['figure.figsize'] = (19,6)\n",
    "plt.imshow(users_predictions);\n",
    "plt.colorbar()\n",
    "plt.show()"
   ]
  },
  {
   "cell_type": "code",
   "execution_count": 20,
   "metadata": {},
   "outputs": [],
   "source": [
    "#Modificar puntajes\n",
    "def refuerzo(users_predictions, username, calificación):\n",
    "    #ponemos el username del usuario al cual queremos verle sus recomendaciones\n",
    "    USUARIO_EJEMPLO = username\n",
    "    data = df_users[df_users['jsanch81@eafit.edu.co'] == USUARIO_EJEMPLO]\n",
    "    usuario_ver = data.iloc[0]['1'] - 1 # resta 1 para obtener el index de pandas.\n",
    "    user0=users_predictions.argsort()[usuario_ver]\n",
    "\n",
    "    # Visualizar los contenidos disponibles para el usuario y su respectiva calificación\n",
    "    # Podemos poner user0[-5:] para visualizar el top 5 (+)\n",
    "    #titulo= Data preparation for Data Mining, contenidoId = 19\n",
    "    for i, aRepo in enumerate(user0[:]):\n",
    "        selRepo = df_repos[df_repos['19']==(aRepo+1)]\n",
    "        #seleccionar mismo ContenidoID\n",
    "        new_rating_contenido_id = df_ratings[df_ratings['contenidoId']==(aRepo+1)]\n",
    "        #Seleccionar mismo userID\n",
    "        new_rating_user = df_ratings[df_ratings['userId'] == (usuario_ver+1)]\n",
    "        #llamamos a la clase donde haremos las modificacione dependiendo del raiting\n",
    "        transform(users_predictions, df_ratings, usuario_ver, aRepo, df_matrix, new_rating_contenido_id, new_rating_user, calificación)\n",
    "        "
   ]
  },
  {
   "cell_type": "code",
   "execution_count": 21,
   "metadata": {},
   "outputs": [],
   "source": [
    "#Cada que se modifique el contenido, se reentrena el sistema\n",
    "def retrain(df_ratings):\n",
    "    df_matrix = pd.pivot_table(df_ratings, values='raiting', index='userId', columns='contenidoId').fillna(0)\n",
    "    ratings = df_matrix.values\n",
    "    ratings_train, ratings_test = train_test_split(ratings, test_size = 0.2, random_state=33)"
   ]
  },
  {
   "cell_type": "code",
   "execution_count": 22,
   "metadata": {},
   "outputs": [],
   "source": [
    "#Modificar puntajes beta\n",
    "def transform(users_predictions, df_ratings, usuario_ver, aRepo, df_matrix, new_rating_contenido_id, new_rating_user, calificación):\n",
    "    #Nuevos Enfoques para futuros cambios.\n",
    "    #cont_ID = df_ratings.iloc[aRepo]['contenidoId']\n",
    "    #user_ID = df_ratings.iloc[aRepo]['userId']\n",
    "    #print(user_ID)\n",
    "    #print(cont_ID)\n",
    "    rait= df_ratings.iloc[aRepo]['raiting']\n",
    "    #secuencia = df_ratings['raiting'].values\n",
    "    #print(rait, 'valores -> ' , secuencia)\n",
    "    \n",
    "    #Condición si me baso en el valor predictivo\n",
    "    #if users_predictions[usuario_ver][aRepo] == 0:\n",
    "    #condición si me baso en la calificación propia del usuario del contenido\n",
    "    #Para esta etapa el valor ingresado por le usuario es un aleatorio entre 0 y 10\n",
    "    #rait\n",
    "    if rait == 0:\n",
    "        df_ratings.loc[aRepo , 'raiting'] = calificación\n",
    "        retrain(df_ratings)\n",
    "        users_predictions = sim_matrix_train.dot(ratings_train) / np.array([np.abs(sim_matrix_train).sum(axis=1)]).T\n",
    "        print('Valoración previa 0 ->' , users_predictions[usuario_ver][aRepo])\n",
    "    elif rait <=5:\n",
    "        df_ratings.loc[aRepo , 'raiting'] = 0\n",
    "        retrain(df_ratings)\n",
    "        users_predictions = sim_matrix_train.dot(ratings_train) / np.array([np.abs(sim_matrix_train).sum(axis=1)]).T\n",
    "        print('Valoración previa entre 0 y 5 ->' , users_predictions[usuario_ver][aRepo])\n",
    "    else:\n",
    "        df_ratings.loc[aRepo , 'raiting'] = (df_ratings.loc[aRepo, 'raiting'])\n",
    "        retrain(df_ratings)\n",
    "        users_predictions = sim_matrix_train.dot(ratings_train) / np.array([np.abs(sim_matrix_train).sum(axis=1)]).T -0.33\n",
    "        print('Valoración previa mayor a 5 ->' , users_predictions[usuario_ver][aRepo])\n",
    "\n",
    "    \n"
   ]
  },
  {
   "cell_type": "code",
   "execution_count": 23,
   "metadata": {},
   "outputs": [
    {
     "name": "stdout",
     "output_type": "stream",
     "text": [
      "Valoración previa mayor a 5 -> 1.0808914555671891\n",
      "Valoración previa 0 -> 2.2516706964756352\n",
      "Valoración previa mayor a 5 -> 2.2009149620741146\n",
      "Valoración previa entre 0 y 5 -> 2.561731607868808\n",
      "Valoración previa 0 -> 2.682253718420597\n",
      "Valoración previa entre 0 y 5 -> 3.113605607811111\n",
      "Valoración previa entre 0 y 5 -> 3.15427986153231\n",
      "Valoración previa entre 0 y 5 -> 3.597446690749488\n",
      "Valoración previa entre 0 y 5 -> 3.8449695443034133\n",
      "Valoración previa 0 -> 4.300510651146651\n",
      "Valoración previa entre 0 y 5 -> 4.341837680998298\n",
      "Valoración previa entre 0 y 5 -> 4.51732857051821\n",
      "Valoración previa entre 0 y 5 -> 4.733284184113166\n",
      "Valoración previa 0 -> 4.960593217769216\n",
      "Valoración previa entre 0 y 5 -> 5.377650581912807\n",
      "Valoración previa mayor a 5 -> 5.1343407729254835\n",
      "Valoración previa mayor a 5 -> 5.142315217510422\n",
      "Valoración previa mayor a 5 -> 5.166965954728713\n",
      "Valoración previa mayor a 5 -> 6.936715815886834\n"
     ]
    }
   ],
   "source": [
    "#username= jsanch81@eafit.edu.co, userID= 1\n",
    "#ponemos el username del usuario al cual queremos verle sus recomendaciones y calificamos\n",
    "username = 'zeatgomez@gmail.com'\n",
    "#Podremos calificar con un valor entre 0 y 10\n",
    "calificación = random.randrange(10)\n",
    "#Llamamos el metodo para re-entrenar el sistema\n",
    "refuerzo(users_predictions, username, calificación)"
   ]
  },
  {
   "cell_type": "code",
   "execution_count": 24,
   "metadata": {},
   "outputs": [],
   "source": [
    "#Validando el error\n",
    "def get_mse(preds, actuals):\n",
    "    if preds.shape[1] != actuals.shape[1]:\n",
    "        actuals = actuals.T\n",
    "    preds = preds[actuals.nonzero()].flatten()\n",
    "    actuals = actuals[actuals.nonzero()].flatten()\n",
    "    return mean_squared_error(preds, actuals)"
   ]
  },
  {
   "cell_type": "code",
   "execution_count": 25,
   "metadata": {},
   "outputs": [
    {
     "data": {
      "text/plain": [
       "6.140351978119497"
      ]
     },
     "execution_count": 25,
     "metadata": {},
     "output_type": "execute_result"
    }
   ],
   "source": [
    "#Entrenamiento\n",
    "get_mse(users_predictions, ratings_train)"
   ]
  },
  {
   "cell_type": "code",
   "execution_count": 26,
   "metadata": {},
   "outputs": [
    {
     "data": {
      "text/plain": [
       "6.2510351703364595"
      ]
     },
     "execution_count": 26,
     "metadata": {},
     "output_type": "execute_result"
    }
   ],
   "source": [
    "# Realizo las predicciones para el test set\n",
    "users_predictions_test = sim_matrix.dot(ratings) / np.array([np.abs(sim_matrix).sum(axis=1)]).T\n",
    "users_predictions_test = users_predictions_test[0:19,:]\n",
    " \n",
    "get_mse(users_predictions_test, ratings_test)"
   ]
  },
  {
   "cell_type": "code",
   "execution_count": 27,
   "metadata": {},
   "outputs": [
    {
     "data": {
      "image/png": "[encoded data removed]",
      "text/plain": [
       "<Figure size 1368x432 with 2 Axes>"
      ]
     },
     "metadata": {
      "needs_background": "light"
     },
     "output_type": "display_data"
    }
   ],
   "source": [
    "#Entre más alto puntee, significa que es una mejor recomendación\n",
    "plt.rcParams['figure.figsize'] = (19, 6)\n",
    "plt.imshow(users_predictions);\n",
    "plt.colorbar()\n",
    "plt.show()"
   ]
  },
  {
   "cell_type": "code",
   "execution_count": null,
   "metadata": {},
   "outputs": [],
   "source": []
  },
  {
   "cell_type": "code",
   "execution_count": null,
   "metadata": {},
   "outputs": [],
   "source": []
  }
 ],
 "metadata": {
  "kernelspec": {
   "display_name": "Python 3",
   "language": "python",
   "name": "python3"
  },
  "language_info": {
   "codemirror_mode": {
    "name": "ipython",
    "version": 3
   },
   "file_extension": ".py",
   "mimetype": "text/x-python",
   "name": "python",
   "nbconvert_exporter": "python",
   "pygments_lexer": "ipython3",
   "version": "3.7.5"
  }
 },
 "nbformat": 4,
 "nbformat_minor": 4
}
