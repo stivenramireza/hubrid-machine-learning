{
 "cells": [
  {
   "cell_type": "markdown",
   "metadata": {},
   "source": [
    "# Preparación de los Datos"
   ]
  },
  {
   "cell_type": "code",
   "execution_count": 42,
   "metadata": {},
   "outputs": [],
   "source": [
    "import pandas as pd"
   ]
  },
  {
   "cell_type": "code",
   "execution_count": 43,
   "metadata": {},
   "outputs": [],
   "source": [
    "data = pd.read_csv('../datasets/twitter_trump_data.csv')"
   ]
  },
  {
   "cell_type": "markdown",
   "metadata": {},
   "source": [
    "### Convertir a DataFrame"
   ]
  },
  {
   "cell_type": "code",
   "execution_count": 44,
   "metadata": {},
   "outputs": [],
   "source": [
    "df = pd.DataFrame(data)"
   ]
  },
  {
   "cell_type": "code",
   "execution_count": 47,
   "metadata": {},
   "outputs": [
    {
     "data": {
      "text/html": [
       "<div>\n",
       "<style scoped>\n",
       "    .dataframe tbody tr th:only-of-type {\n",
       "        vertical-align: middle;\n",
       "    }\n",
       "\n",
       "    .dataframe tbody tr th {\n",
       "        vertical-align: top;\n",
       "    }\n",
       "\n",
       "    .dataframe thead th {\n",
       "        text-align: right;\n",
       "    }\n",
       "</style>\n",
       "<table border=\"1\" class=\"dataframe\">\n",
       "  <thead>\n",
       "    <tr style=\"text-align: right;\">\n",
       "      <th></th>\n",
       "      <th>text</th>\n",
       "      <th>retweet_count</th>\n",
       "      <th>favorite_count</th>\n",
       "      <th>Followers</th>\n",
       "      <th>Follower_Change</th>\n",
       "      <th>Num_Tweets</th>\n",
       "      <th>Year</th>\n",
       "      <th>Month</th>\n",
       "      <th>Week</th>\n",
       "      <th>Day</th>\n",
       "      <th>Hour</th>\n",
       "    </tr>\n",
       "  </thead>\n",
       "  <tbody>\n",
       "    <tr>\n",
       "      <th>0</th>\n",
       "      <td>Judge Kavanaugh showed America exactly why I n...</td>\n",
       "      <td>85502</td>\n",
       "      <td>320158</td>\n",
       "      <td>54672474</td>\n",
       "      <td>21128</td>\n",
       "      <td>12</td>\n",
       "      <td>2018</td>\n",
       "      <td>9</td>\n",
       "      <td>39</td>\n",
       "      <td>27</td>\n",
       "      <td>22</td>\n",
       "    </tr>\n",
       "    <tr>\n",
       "      <th>1</th>\n",
       "      <td>https://t.co/9o5gZlJiTd</td>\n",
       "      <td>17391</td>\n",
       "      <td>77145</td>\n",
       "      <td>54651346</td>\n",
       "      <td>20751</td>\n",
       "      <td>13</td>\n",
       "      <td>2018</td>\n",
       "      <td>9</td>\n",
       "      <td>39</td>\n",
       "      <td>26</td>\n",
       "      <td>23</td>\n",
       "    </tr>\n",
       "    <tr>\n",
       "      <th>2</th>\n",
       "      <td>Join me this Saturday in Wheeling West Virgini...</td>\n",
       "      <td>14484</td>\n",
       "      <td>52957</td>\n",
       "      <td>54651346</td>\n",
       "      <td>20751</td>\n",
       "      <td>13</td>\n",
       "      <td>2018</td>\n",
       "      <td>9</td>\n",
       "      <td>39</td>\n",
       "      <td>26</td>\n",
       "      <td>20</td>\n",
       "    </tr>\n",
       "    <tr>\n",
       "      <th>3</th>\n",
       "      <td>Congressman Lee Zeldin is doing a fantastic jo...</td>\n",
       "      <td>14949</td>\n",
       "      <td>65494</td>\n",
       "      <td>54651346</td>\n",
       "      <td>20751</td>\n",
       "      <td>13</td>\n",
       "      <td>2018</td>\n",
       "      <td>9</td>\n",
       "      <td>39</td>\n",
       "      <td>26</td>\n",
       "      <td>17</td>\n",
       "    </tr>\n",
       "    <tr>\n",
       "      <th>4</th>\n",
       "      <td>China is actually placing propaganda ads in th...</td>\n",
       "      <td>19236</td>\n",
       "      <td>58671</td>\n",
       "      <td>54651346</td>\n",
       "      <td>20751</td>\n",
       "      <td>13</td>\n",
       "      <td>2018</td>\n",
       "      <td>9</td>\n",
       "      <td>39</td>\n",
       "      <td>26</td>\n",
       "      <td>17</td>\n",
       "    </tr>\n",
       "  </tbody>\n",
       "</table>\n",
       "</div>"
      ],
      "text/plain": [
       "                                                text  retweet_count  \\\n",
       "0  Judge Kavanaugh showed America exactly why I n...          85502   \n",
       "1                            https://t.co/9o5gZlJiTd          17391   \n",
       "2  Join me this Saturday in Wheeling West Virgini...          14484   \n",
       "3  Congressman Lee Zeldin is doing a fantastic jo...          14949   \n",
       "4  China is actually placing propaganda ads in th...          19236   \n",
       "\n",
       "   favorite_count  Followers  Follower_Change  Num_Tweets  Year  Month  Week  \\\n",
       "0          320158   54672474            21128          12  2018      9    39   \n",
       "1           77145   54651346            20751          13  2018      9    39   \n",
       "2           52957   54651346            20751          13  2018      9    39   \n",
       "3           65494   54651346            20751          13  2018      9    39   \n",
       "4           58671   54651346            20751          13  2018      9    39   \n",
       "\n",
       "   Day  Hour  \n",
       "0   27    22  \n",
       "1   26    23  \n",
       "2   26    20  \n",
       "3   26    17  \n",
       "4   26    17  "
      ]
     },
     "execution_count": 47,
     "metadata": {},
     "output_type": "execute_result"
    }
   ],
   "source": [
    "df.head()"
   ]
  },
  {
   "cell_type": "markdown",
   "metadata": {},
   "source": [
    "### Renombrar las columnas"
   ]
  },
  {
   "cell_type": "code",
   "execution_count": 48,
   "metadata": {},
   "outputs": [],
   "source": [
    "df = df.rename(columns={\n",
    "    \"Followers\": \"followers\",\n",
    "    \"Follower_Change\": \"follower_change\",\n",
    "    \"Num_Tweets\": \"tweets\",\n",
    "    \"Year\": \"year\",\n",
    "    \"Month\": \"month\",\n",
    "    \"Week\": \"week\",\n",
    "    \"Day\": \"day\",\n",
    "    \"Hour\": \"hour\"\n",
    "})"
   ]
  },
  {
   "cell_type": "markdown",
   "metadata": {},
   "source": [
    "### Valores nulos por variable"
   ]
  },
  {
   "cell_type": "code",
   "execution_count": 50,
   "metadata": {},
   "outputs": [],
   "source": [
    "df = df[df != 0]"
   ]
  },
  {
   "cell_type": "code",
   "execution_count": 51,
   "metadata": {},
   "outputs": [
    {
     "data": {
      "text/plain": [
       "text                 0\n",
       "retweet_count        0\n",
       "favorite_count       0\n",
       "followers            0\n",
       "follower_change      8\n",
       "tweets             118\n",
       "year                 0\n",
       "month                0\n",
       "week                 0\n",
       "day                  0\n",
       "hour               600\n",
       "dtype: int64"
      ]
     },
     "execution_count": 51,
     "metadata": {},
     "output_type": "execute_result"
    }
   ],
   "source": [
    "pd.isnull(df).sum()"
   ]
  },
  {
   "cell_type": "markdown",
   "metadata": {},
   "source": [
    "### Resumen estadístico básico de las variables numéricas\n",
    "\n",
    "- count: Número de elementos no nulos\n",
    "- mean: Promedio\n",
    "- std: Desviación estándar\n",
    "- min: Valor mínimo\n",
    "- 25%: Primer cuartil\n",
    "- 50%: Seg cuartil\n",
    "- 75%: tercer cuartil\n",
    "- max: valor maximo"
   ]
  },
  {
   "cell_type": "code",
   "execution_count": null,
   "metadata": {},
   "outputs": [],
   "source": []
  }
 ],
 "metadata": {
  "kernelspec": {
   "display_name": "Python 3",
   "language": "python",
   "name": "python3"
  },
  "language_info": {
   "codemirror_mode": {
    "name": "ipython",
    "version": 3
   },
   "file_extension": ".py",
   "mimetype": "text/x-python",
   "name": "python",
   "nbconvert_exporter": "python",
   "pygments_lexer": "ipython3",
   "version": "3.8.1"
  }
 },
 "nbformat": 4,
 "nbformat_minor": 4
}
