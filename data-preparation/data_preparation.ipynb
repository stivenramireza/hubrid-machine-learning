{
 "cells": [
  {
   "cell_type": "markdown",
   "metadata": {},
   "source": [
    "# Preparación de los Datos"
   ]
  },
  {
   "cell_type": "code",
   "execution_count": 16,
   "metadata": {},
   "outputs": [],
   "source": [
    "import pandas as pd\n",
    "import numpy as np\n",
    "import matplotlib.pyplot as plt"
   ]
  },
  {
   "cell_type": "code",
   "execution_count": 17,
   "metadata": {},
   "outputs": [],
   "source": [
    "data = pd.read_csv('../datasets/twitter_trump_data.csv')"
   ]
  },
  {
   "cell_type": "markdown",
   "metadata": {},
   "source": [
    "### Convertir a DataFrame"
   ]
  },
  {
   "cell_type": "code",
   "execution_count": 18,
   "metadata": {},
   "outputs": [],
   "source": [
    "df = pd.DataFrame(data)"
   ]
  },
  {
   "cell_type": "code",
   "execution_count": 19,
   "metadata": {},
   "outputs": [
    {
     "data": {
      "text/html": [
       "<div>\n",
       "<style scoped>\n",
       "    .dataframe tbody tr th:only-of-type {\n",
       "        vertical-align: middle;\n",
       "    }\n",
       "\n",
       "    .dataframe tbody tr th {\n",
       "        vertical-align: top;\n",
       "    }\n",
       "\n",
       "    .dataframe thead th {\n",
       "        text-align: right;\n",
       "    }\n",
       "</style>\n",
       "<table border=\"1\" class=\"dataframe\">\n",
       "  <thead>\n",
       "    <tr style=\"text-align: right;\">\n",
       "      <th></th>\n",
       "      <th>text</th>\n",
       "      <th>retweet_count</th>\n",
       "      <th>favorite_count</th>\n",
       "      <th>Followers</th>\n",
       "      <th>Follower_Change</th>\n",
       "      <th>Num_Tweets</th>\n",
       "      <th>Year</th>\n",
       "      <th>Month</th>\n",
       "      <th>Week</th>\n",
       "      <th>Day</th>\n",
       "      <th>Hour</th>\n",
       "    </tr>\n",
       "  </thead>\n",
       "  <tbody>\n",
       "    <tr>\n",
       "      <th>0</th>\n",
       "      <td>Judge Kavanaugh showed America exactly why I n...</td>\n",
       "      <td>85502</td>\n",
       "      <td>320158</td>\n",
       "      <td>54672474</td>\n",
       "      <td>21128</td>\n",
       "      <td>12</td>\n",
       "      <td>2018</td>\n",
       "      <td>9</td>\n",
       "      <td>39</td>\n",
       "      <td>27</td>\n",
       "      <td>22</td>\n",
       "    </tr>\n",
       "    <tr>\n",
       "      <th>1</th>\n",
       "      <td>https://t.co/9o5gZlJiTd</td>\n",
       "      <td>17391</td>\n",
       "      <td>77145</td>\n",
       "      <td>54651346</td>\n",
       "      <td>20751</td>\n",
       "      <td>13</td>\n",
       "      <td>2018</td>\n",
       "      <td>9</td>\n",
       "      <td>39</td>\n",
       "      <td>26</td>\n",
       "      <td>23</td>\n",
       "    </tr>\n",
       "    <tr>\n",
       "      <th>2</th>\n",
       "      <td>Join me this Saturday in Wheeling West Virgini...</td>\n",
       "      <td>14484</td>\n",
       "      <td>52957</td>\n",
       "      <td>54651346</td>\n",
       "      <td>20751</td>\n",
       "      <td>13</td>\n",
       "      <td>2018</td>\n",
       "      <td>9</td>\n",
       "      <td>39</td>\n",
       "      <td>26</td>\n",
       "      <td>20</td>\n",
       "    </tr>\n",
       "    <tr>\n",
       "      <th>3</th>\n",
       "      <td>Congressman Lee Zeldin is doing a fantastic jo...</td>\n",
       "      <td>14949</td>\n",
       "      <td>65494</td>\n",
       "      <td>54651346</td>\n",
       "      <td>20751</td>\n",
       "      <td>13</td>\n",
       "      <td>2018</td>\n",
       "      <td>9</td>\n",
       "      <td>39</td>\n",
       "      <td>26</td>\n",
       "      <td>17</td>\n",
       "    </tr>\n",
       "    <tr>\n",
       "      <th>4</th>\n",
       "      <td>China is actually placing propaganda ads in th...</td>\n",
       "      <td>19236</td>\n",
       "      <td>58671</td>\n",
       "      <td>54651346</td>\n",
       "      <td>20751</td>\n",
       "      <td>13</td>\n",
       "      <td>2018</td>\n",
       "      <td>9</td>\n",
       "      <td>39</td>\n",
       "      <td>26</td>\n",
       "      <td>17</td>\n",
       "    </tr>\n",
       "  </tbody>\n",
       "</table>\n",
       "</div>"
      ],
      "text/plain": [
       "                                                text  retweet_count  \\\n",
       "0  Judge Kavanaugh showed America exactly why I n...          85502   \n",
       "1                            https://t.co/9o5gZlJiTd          17391   \n",
       "2  Join me this Saturday in Wheeling West Virgini...          14484   \n",
       "3  Congressman Lee Zeldin is doing a fantastic jo...          14949   \n",
       "4  China is actually placing propaganda ads in th...          19236   \n",
       "\n",
       "   favorite_count  Followers  Follower_Change  Num_Tweets  Year  Month  Week  \\\n",
       "0          320158   54672474            21128          12  2018      9    39   \n",
       "1           77145   54651346            20751          13  2018      9    39   \n",
       "2           52957   54651346            20751          13  2018      9    39   \n",
       "3           65494   54651346            20751          13  2018      9    39   \n",
       "4           58671   54651346            20751          13  2018      9    39   \n",
       "\n",
       "   Day  Hour  \n",
       "0   27    22  \n",
       "1   26    23  \n",
       "2   26    20  \n",
       "3   26    17  \n",
       "4   26    17  "
      ]
     },
     "execution_count": 19,
     "metadata": {},
     "output_type": "execute_result"
    }
   ],
   "source": [
    "df.head()"
   ]
  },
  {
   "cell_type": "markdown",
   "metadata": {},
   "source": [
    "### Renombrar las columnas"
   ]
  },
  {
   "cell_type": "code",
   "execution_count": 20,
   "metadata": {},
   "outputs": [],
   "source": [
    "df = df.rename(columns={\n",
    "    \"Followers\": \"followers\",\n",
    "    \"Follower_Change\": \"follower_change\",\n",
    "    \"Num_Tweets\": \"tweets\",\n",
    "    \"Year\": \"year\",\n",
    "    \"Month\": \"month\",\n",
    "    \"Week\": \"week\",\n",
    "    \"Day\": \"day\",\n",
    "    \"Hour\": \"hour\"\n",
    "})"
   ]
  },
  {
   "cell_type": "markdown",
   "metadata": {},
   "source": [
    "### Verificar si existen filas con valores nulos"
   ]
  },
  {
   "cell_type": "code",
   "execution_count": 21,
   "metadata": {},
   "outputs": [],
   "source": [
    "df_not_null = df[df != 0]"
   ]
  },
  {
   "cell_type": "code",
   "execution_count": 22,
   "metadata": {},
   "outputs": [
    {
     "data": {
      "text/plain": [
       "text                 0\n",
       "retweet_count        0\n",
       "favorite_count       0\n",
       "followers            0\n",
       "follower_change      8\n",
       "tweets             118\n",
       "year                 0\n",
       "month                0\n",
       "week                 0\n",
       "day                  0\n",
       "hour               600\n",
       "dtype: int64"
      ]
     },
     "execution_count": 22,
     "metadata": {},
     "output_type": "execute_result"
    }
   ],
   "source": [
    "pd.isnull(df_not_null).sum()"
   ]
  },
  {
   "cell_type": "markdown",
   "metadata": {},
   "source": [
    "### Resumen estadístico\n",
    "\n",
    "- count: Número de elementos no nulos\n",
    "- mean: Promedio\n",
    "- std: Desviación estándar\n",
    "- min: Valor mínimo\n",
    "- 25%: Primer cuartil\n",
    "- 50%: Segundo cuartil\n",
    "- 75%: Tercer cuartil\n",
    "- max: Valor máximo"
   ]
  },
  {
   "cell_type": "code",
   "execution_count": 23,
   "metadata": {},
   "outputs": [],
   "source": [
    "df_statistics = df_not_null.describe()"
   ]
  },
  {
   "cell_type": "code",
   "execution_count": 24,
   "metadata": {},
   "outputs": [
    {
     "data": {
      "text/html": [
       "<div>\n",
       "<style scoped>\n",
       "    .dataframe tbody tr th:only-of-type {\n",
       "        vertical-align: middle;\n",
       "    }\n",
       "\n",
       "    .dataframe tbody tr th {\n",
       "        vertical-align: top;\n",
       "    }\n",
       "\n",
       "    .dataframe thead th {\n",
       "        text-align: right;\n",
       "    }\n",
       "</style>\n",
       "<table border=\"1\" class=\"dataframe\">\n",
       "  <thead>\n",
       "    <tr style=\"text-align: right;\">\n",
       "      <th></th>\n",
       "      <th>retweet_count</th>\n",
       "      <th>favorite_count</th>\n",
       "      <th>followers</th>\n",
       "      <th>follower_change</th>\n",
       "      <th>tweets</th>\n",
       "      <th>year</th>\n",
       "      <th>month</th>\n",
       "      <th>week</th>\n",
       "      <th>day</th>\n",
       "      <th>hour</th>\n",
       "    </tr>\n",
       "  </thead>\n",
       "  <tbody>\n",
       "    <tr>\n",
       "      <th>count</th>\n",
       "      <td>11759.000000</td>\n",
       "      <td>11759.000000</td>\n",
       "      <td>1.175900e+04</td>\n",
       "      <td>11751.000000</td>\n",
       "      <td>11641.000000</td>\n",
       "      <td>11759.000000</td>\n",
       "      <td>11759.000000</td>\n",
       "      <td>11759.000000</td>\n",
       "      <td>11759.000000</td>\n",
       "      <td>11159.000000</td>\n",
       "    </tr>\n",
       "    <tr>\n",
       "      <th>mean</th>\n",
       "      <td>10542.179012</td>\n",
       "      <td>40495.229101</td>\n",
       "      <td>2.002753e+07</td>\n",
       "      <td>33561.168581</td>\n",
       "      <td>16.235547</td>\n",
       "      <td>2016.246875</td>\n",
       "      <td>7.017604</td>\n",
       "      <td>28.794200</td>\n",
       "      <td>16.127307</td>\n",
       "      <td>13.375213</td>\n",
       "    </tr>\n",
       "    <tr>\n",
       "      <th>std</th>\n",
       "      <td>12463.598542</td>\n",
       "      <td>45900.885681</td>\n",
       "      <td>1.858377e+07</td>\n",
       "      <td>34112.552562</td>\n",
       "      <td>14.563559</td>\n",
       "      <td>1.066680</td>\n",
       "      <td>3.237644</td>\n",
       "      <td>14.067874</td>\n",
       "      <td>8.823738</td>\n",
       "      <td>6.600350</td>\n",
       "    </tr>\n",
       "    <tr>\n",
       "      <th>min</th>\n",
       "      <td>6.000000</td>\n",
       "      <td>34.000000</td>\n",
       "      <td>2.957264e+06</td>\n",
       "      <td>-329029.000000</td>\n",
       "      <td>-29.000000</td>\n",
       "      <td>2015.000000</td>\n",
       "      <td>1.000000</td>\n",
       "      <td>1.000000</td>\n",
       "      <td>1.000000</td>\n",
       "      <td>1.000000</td>\n",
       "    </tr>\n",
       "    <tr>\n",
       "      <th>25%</th>\n",
       "      <td>1516.000000</td>\n",
       "      <td>3727.000000</td>\n",
       "      <td>5.033780e+06</td>\n",
       "      <td>12735.000000</td>\n",
       "      <td>7.000000</td>\n",
       "      <td>2015.000000</td>\n",
       "      <td>5.000000</td>\n",
       "      <td>18.000000</td>\n",
       "      <td>8.000000</td>\n",
       "      <td>10.000000</td>\n",
       "    </tr>\n",
       "    <tr>\n",
       "      <th>50%</th>\n",
       "      <td>6806.000000</td>\n",
       "      <td>19503.000000</td>\n",
       "      <td>9.941948e+06</td>\n",
       "      <td>22188.000000</td>\n",
       "      <td>13.000000</td>\n",
       "      <td>2016.000000</td>\n",
       "      <td>7.000000</td>\n",
       "      <td>30.000000</td>\n",
       "      <td>17.000000</td>\n",
       "      <td>14.000000</td>\n",
       "    </tr>\n",
       "    <tr>\n",
       "      <th>75%</th>\n",
       "      <td>16433.000000</td>\n",
       "      <td>70692.000000</td>\n",
       "      <td>3.780345e+07</td>\n",
       "      <td>44629.000000</td>\n",
       "      <td>20.000000</td>\n",
       "      <td>2017.000000</td>\n",
       "      <td>10.000000</td>\n",
       "      <td>41.000000</td>\n",
       "      <td>24.000000</td>\n",
       "      <td>19.000000</td>\n",
       "    </tr>\n",
       "    <tr>\n",
       "      <th>max</th>\n",
       "      <td>369530.000000</td>\n",
       "      <td>633253.000000</td>\n",
       "      <td>5.467247e+07</td>\n",
       "      <td>801107.000000</td>\n",
       "      <td>98.000000</td>\n",
       "      <td>2018.000000</td>\n",
       "      <td>12.000000</td>\n",
       "      <td>53.000000</td>\n",
       "      <td>31.000000</td>\n",
       "      <td>23.000000</td>\n",
       "    </tr>\n",
       "  </tbody>\n",
       "</table>\n",
       "</div>"
      ],
      "text/plain": [
       "       retweet_count  favorite_count     followers  follower_change  \\\n",
       "count   11759.000000    11759.000000  1.175900e+04     11751.000000   \n",
       "mean    10542.179012    40495.229101  2.002753e+07     33561.168581   \n",
       "std     12463.598542    45900.885681  1.858377e+07     34112.552562   \n",
       "min         6.000000       34.000000  2.957264e+06   -329029.000000   \n",
       "25%      1516.000000     3727.000000  5.033780e+06     12735.000000   \n",
       "50%      6806.000000    19503.000000  9.941948e+06     22188.000000   \n",
       "75%     16433.000000    70692.000000  3.780345e+07     44629.000000   \n",
       "max    369530.000000   633253.000000  5.467247e+07    801107.000000   \n",
       "\n",
       "             tweets          year         month          week           day  \\\n",
       "count  11641.000000  11759.000000  11759.000000  11759.000000  11759.000000   \n",
       "mean      16.235547   2016.246875      7.017604     28.794200     16.127307   \n",
       "std       14.563559      1.066680      3.237644     14.067874      8.823738   \n",
       "min      -29.000000   2015.000000      1.000000      1.000000      1.000000   \n",
       "25%        7.000000   2015.000000      5.000000     18.000000      8.000000   \n",
       "50%       13.000000   2016.000000      7.000000     30.000000     17.000000   \n",
       "75%       20.000000   2017.000000     10.000000     41.000000     24.000000   \n",
       "max       98.000000   2018.000000     12.000000     53.000000     31.000000   \n",
       "\n",
       "               hour  \n",
       "count  11159.000000  \n",
       "mean      13.375213  \n",
       "std        6.600350  \n",
       "min        1.000000  \n",
       "25%       10.000000  \n",
       "50%       14.000000  \n",
       "75%       19.000000  \n",
       "max       23.000000  "
      ]
     },
     "execution_count": 24,
     "metadata": {},
     "output_type": "execute_result"
    }
   ],
   "source": [
    "df_statistics"
   ]
  },
  {
   "cell_type": "markdown",
   "metadata": {},
   "source": [
    "### Diagrama de Caja de Bigotes #1 (Con datos atípicos y con valores nulos)"
   ]
  },
  {
   "cell_type": "code",
   "execution_count": 25,
   "metadata": {},
   "outputs": [
    {
     "data": {
      "image/png": "[encoded data removed]",
      "text/plain": [
       "<Figure size 1440x720 with 1 Axes>"
      ]
     },
     "metadata": {
      "needs_background": "light"
     },
     "output_type": "display_data"
    }
   ],
   "source": [
    "box_plot_1 = df_not_null.boxplot(rot=90, figsize=(20,10))"
   ]
  },
  {
   "cell_type": "markdown",
   "metadata": {},
   "source": [
    "### Valores Atípicos\n",
    "\n",
    "- IQR = Q3 - Q1\n",
    "- q < Q1 - 1.5 * IQR\n",
    "- q > Q3 + 1.5 * IQR"
   ]
  },
  {
   "cell_type": "code",
   "execution_count": 26,
   "metadata": {},
   "outputs": [],
   "source": [
    "array_not_null = df_not_null.to_numpy()\n",
    "array_statistics = df_statistics.to_numpy()"
   ]
  },
  {
   "cell_type": "code",
   "execution_count": 27,
   "metadata": {},
   "outputs": [],
   "source": [
    "size_array_not_null = array_not_null.shape"
   ]
  },
  {
   "cell_type": "code",
   "execution_count": 28,
   "metadata": {},
   "outputs": [],
   "source": [
    "rows = size_array_not_null[0]\n",
    "columns = size_array_not_null[1]"
   ]
  },
  {
   "cell_type": "code",
   "execution_count": 29,
   "metadata": {},
   "outputs": [],
   "source": [
    "for i in range(columns - 1):\n",
    "    for j in range(rows):\n",
    "        q1 = array_statistics[4][i]\n",
    "        q3 = array_statistics[6][i]\n",
    "        iqr = q3 - q1\n",
    "        left_most = q1 - (1.5 * iqr)\n",
    "        right_most = q3 + (1.5 * iqr)\n",
    "        if(array_not_null[j][i + 1] < left_most):\n",
    "            array_not_null[j][i + 1] = array_statistics[1][i]\n",
    "        if(array_not_null[j][i + 1] > right_most):\n",
    "            array_not_null[j][i + 1] = array_statistics[1][i]"
   ]
  },
  {
   "cell_type": "code",
   "execution_count": 30,
   "metadata": {},
   "outputs": [],
   "source": [
    "names_cols = df_not_null.columns.values\n",
    "data_without_outliers = pd.DataFrame.from_records(array_not_null, columns = names_cols)\n",
    "df_mean = data_without_outliers.describe()"
   ]
  },
  {
   "cell_type": "code",
   "execution_count": 31,
   "metadata": {},
   "outputs": [
    {
     "data": {
      "text/html": [
       "<div>\n",
       "<style scoped>\n",
       "    .dataframe tbody tr th:only-of-type {\n",
       "        vertical-align: middle;\n",
       "    }\n",
       "\n",
       "    .dataframe tbody tr th {\n",
       "        vertical-align: top;\n",
       "    }\n",
       "\n",
       "    .dataframe thead th {\n",
       "        text-align: right;\n",
       "    }\n",
       "</style>\n",
       "<table border=\"1\" class=\"dataframe\">\n",
       "  <thead>\n",
       "    <tr style=\"text-align: right;\">\n",
       "      <th></th>\n",
       "      <th>retweet_count</th>\n",
       "      <th>favorite_count</th>\n",
       "      <th>followers</th>\n",
       "      <th>follower_change</th>\n",
       "      <th>tweets</th>\n",
       "      <th>year</th>\n",
       "      <th>month</th>\n",
       "      <th>week</th>\n",
       "      <th>day</th>\n",
       "      <th>hour</th>\n",
       "    </tr>\n",
       "  </thead>\n",
       "  <tbody>\n",
       "    <tr>\n",
       "      <th>count</th>\n",
       "      <td>11759.000000</td>\n",
       "      <td>11759.000000</td>\n",
       "      <td>1.175900e+04</td>\n",
       "      <td>11751.000000</td>\n",
       "      <td>11641.000000</td>\n",
       "      <td>11759.000000</td>\n",
       "      <td>11759.000000</td>\n",
       "      <td>11759.000000</td>\n",
       "      <td>11759.000000</td>\n",
       "      <td>11159.000000</td>\n",
       "    </tr>\n",
       "    <tr>\n",
       "      <th>mean</th>\n",
       "      <td>9639.460683</td>\n",
       "      <td>38335.220623</td>\n",
       "      <td>2.002753e+07</td>\n",
       "      <td>28113.622630</td>\n",
       "      <td>13.635967</td>\n",
       "      <td>2016.246875</td>\n",
       "      <td>7.017604</td>\n",
       "      <td>28.794200</td>\n",
       "      <td>16.127307</td>\n",
       "      <td>13.375213</td>\n",
       "    </tr>\n",
       "    <tr>\n",
       "      <th>std</th>\n",
       "      <td>9218.372678</td>\n",
       "      <td>40500.707305</td>\n",
       "      <td>1.858377e+07</td>\n",
       "      <td>20324.261956</td>\n",
       "      <td>8.057694</td>\n",
       "      <td>1.066680</td>\n",
       "      <td>3.237644</td>\n",
       "      <td>14.067874</td>\n",
       "      <td>8.823738</td>\n",
       "      <td>6.600350</td>\n",
       "    </tr>\n",
       "    <tr>\n",
       "      <th>min</th>\n",
       "      <td>6.000000</td>\n",
       "      <td>34.000000</td>\n",
       "      <td>2.957264e+06</td>\n",
       "      <td>-34939.000000</td>\n",
       "      <td>-4.000000</td>\n",
       "      <td>2015.000000</td>\n",
       "      <td>1.000000</td>\n",
       "      <td>1.000000</td>\n",
       "      <td>1.000000</td>\n",
       "      <td>1.000000</td>\n",
       "    </tr>\n",
       "    <tr>\n",
       "      <th>25%</th>\n",
       "      <td>1516.000000</td>\n",
       "      <td>3727.000000</td>\n",
       "      <td>5.033780e+06</td>\n",
       "      <td>12735.000000</td>\n",
       "      <td>7.000000</td>\n",
       "      <td>2015.000000</td>\n",
       "      <td>5.000000</td>\n",
       "      <td>18.000000</td>\n",
       "      <td>8.000000</td>\n",
       "      <td>10.000000</td>\n",
       "    </tr>\n",
       "    <tr>\n",
       "      <th>50%</th>\n",
       "      <td>6806.000000</td>\n",
       "      <td>19503.000000</td>\n",
       "      <td>9.941948e+06</td>\n",
       "      <td>22194.000000</td>\n",
       "      <td>13.000000</td>\n",
       "      <td>2016.000000</td>\n",
       "      <td>7.000000</td>\n",
       "      <td>30.000000</td>\n",
       "      <td>17.000000</td>\n",
       "      <td>14.000000</td>\n",
       "    </tr>\n",
       "    <tr>\n",
       "      <th>75%</th>\n",
       "      <td>15690.500000</td>\n",
       "      <td>68667.000000</td>\n",
       "      <td>3.780345e+07</td>\n",
       "      <td>37173.000000</td>\n",
       "      <td>17.000000</td>\n",
       "      <td>2017.000000</td>\n",
       "      <td>10.000000</td>\n",
       "      <td>41.000000</td>\n",
       "      <td>24.000000</td>\n",
       "      <td>19.000000</td>\n",
       "    </tr>\n",
       "    <tr>\n",
       "      <th>max</th>\n",
       "      <td>38805.000000</td>\n",
       "      <td>170619.000000</td>\n",
       "      <td>5.467247e+07</td>\n",
       "      <td>92050.000000</td>\n",
       "      <td>39.000000</td>\n",
       "      <td>2018.000000</td>\n",
       "      <td>12.000000</td>\n",
       "      <td>53.000000</td>\n",
       "      <td>31.000000</td>\n",
       "      <td>23.000000</td>\n",
       "    </tr>\n",
       "  </tbody>\n",
       "</table>\n",
       "</div>"
      ],
      "text/plain": [
       "       retweet_count  favorite_count     followers  follower_change  \\\n",
       "count   11759.000000    11759.000000  1.175900e+04     11751.000000   \n",
       "mean     9639.460683    38335.220623  2.002753e+07     28113.622630   \n",
       "std      9218.372678    40500.707305  1.858377e+07     20324.261956   \n",
       "min         6.000000       34.000000  2.957264e+06    -34939.000000   \n",
       "25%      1516.000000     3727.000000  5.033780e+06     12735.000000   \n",
       "50%      6806.000000    19503.000000  9.941948e+06     22194.000000   \n",
       "75%     15690.500000    68667.000000  3.780345e+07     37173.000000   \n",
       "max     38805.000000   170619.000000  5.467247e+07     92050.000000   \n",
       "\n",
       "             tweets          year         month          week           day  \\\n",
       "count  11641.000000  11759.000000  11759.000000  11759.000000  11759.000000   \n",
       "mean      13.635967   2016.246875      7.017604     28.794200     16.127307   \n",
       "std        8.057694      1.066680      3.237644     14.067874      8.823738   \n",
       "min       -4.000000   2015.000000      1.000000      1.000000      1.000000   \n",
       "25%        7.000000   2015.000000      5.000000     18.000000      8.000000   \n",
       "50%       13.000000   2016.000000      7.000000     30.000000     17.000000   \n",
       "75%       17.000000   2017.000000     10.000000     41.000000     24.000000   \n",
       "max       39.000000   2018.000000     12.000000     53.000000     31.000000   \n",
       "\n",
       "               hour  \n",
       "count  11159.000000  \n",
       "mean      13.375213  \n",
       "std        6.600350  \n",
       "min        1.000000  \n",
       "25%       10.000000  \n",
       "50%       14.000000  \n",
       "75%       19.000000  \n",
       "max       23.000000  "
      ]
     },
     "execution_count": 31,
     "metadata": {},
     "output_type": "execute_result"
    }
   ],
   "source": [
    "df_mean"
   ]
  },
  {
   "cell_type": "markdown",
   "metadata": {},
   "source": [
    "### Diagrama de Caja de Bigotes #2 (Sin datos atípicos y con valores nulos)"
   ]
  },
  {
   "cell_type": "code",
   "execution_count": 32,
   "metadata": {},
   "outputs": [
    {
     "data": {
      "image/png": "[encoded data removed]",
      "text/plain": [
       "<Figure size 1440x720 with 1 Axes>"
      ]
     },
     "metadata": {
      "needs_background": "light"
     },
     "output_type": "display_data"
    }
   ],
   "source": [
    "box_plot_2 = data_without_outliers.boxplot(rot=90, figsize=(20,10))"
   ]
  },
  {
   "cell_type": "markdown",
   "metadata": {},
   "source": [
    "### Valores Nulos"
   ]
  },
  {
   "cell_type": "code",
   "execution_count": 33,
   "metadata": {},
   "outputs": [],
   "source": [
    "data = data_without_outliers\n",
    "array_data = data.to_numpy()\n",
    "array_mean = df_mean.to_numpy()"
   ]
  },
  {
   "cell_type": "code",
   "execution_count": 34,
   "metadata": {},
   "outputs": [],
   "source": [
    "size_array_data = array_data.shape"
   ]
  },
  {
   "cell_type": "code",
   "execution_count": 35,
   "metadata": {},
   "outputs": [],
   "source": [
    "rows_2 = size_array_data[0]\n",
    "columns_2 = size_array_data[1]"
   ]
  },
  {
   "cell_type": "code",
   "execution_count": 36,
   "metadata": {},
   "outputs": [],
   "source": [
    "for i in range(columns_2 - 1):\n",
    "    for j in range(rows_2):\n",
    "        if(np.math.isnan(array_data[j][i + 1])):\n",
    "            array_data[j][i+1] = array_mean[1][i]"
   ]
  },
  {
   "cell_type": "code",
   "execution_count": 37,
   "metadata": {},
   "outputs": [],
   "source": [
    "names_cols_2 = data_without_outliers.columns.values\n",
    "data_next = pd.DataFrame.from_records(array_data, columns = names_cols_2)\n",
    "df_nulls = data_next.describe()"
   ]
  },
  {
   "cell_type": "code",
   "execution_count": 38,
   "metadata": {},
   "outputs": [
    {
     "data": {
      "text/html": [
       "<div>\n",
       "<style scoped>\n",
       "    .dataframe tbody tr th:only-of-type {\n",
       "        vertical-align: middle;\n",
       "    }\n",
       "\n",
       "    .dataframe tbody tr th {\n",
       "        vertical-align: top;\n",
       "    }\n",
       "\n",
       "    .dataframe thead th {\n",
       "        text-align: right;\n",
       "    }\n",
       "</style>\n",
       "<table border=\"1\" class=\"dataframe\">\n",
       "  <thead>\n",
       "    <tr style=\"text-align: right;\">\n",
       "      <th></th>\n",
       "      <th>retweet_count</th>\n",
       "      <th>favorite_count</th>\n",
       "      <th>followers</th>\n",
       "      <th>follower_change</th>\n",
       "      <th>tweets</th>\n",
       "      <th>year</th>\n",
       "      <th>month</th>\n",
       "      <th>week</th>\n",
       "      <th>day</th>\n",
       "      <th>hour</th>\n",
       "    </tr>\n",
       "  </thead>\n",
       "  <tbody>\n",
       "    <tr>\n",
       "      <th>count</th>\n",
       "      <td>11759.000000</td>\n",
       "      <td>11759.000000</td>\n",
       "      <td>1.175900e+04</td>\n",
       "      <td>11759.00000</td>\n",
       "      <td>11759.000000</td>\n",
       "      <td>11759.000000</td>\n",
       "      <td>11759.000000</td>\n",
       "      <td>11759.000000</td>\n",
       "      <td>11759.000000</td>\n",
       "      <td>11759.000000</td>\n",
       "    </tr>\n",
       "    <tr>\n",
       "      <th>mean</th>\n",
       "      <td>9639.460683</td>\n",
       "      <td>38335.220623</td>\n",
       "      <td>2.002753e+07</td>\n",
       "      <td>28113.62263</td>\n",
       "      <td>13.635967</td>\n",
       "      <td>2016.246875</td>\n",
       "      <td>7.017604</td>\n",
       "      <td>28.794200</td>\n",
       "      <td>16.127307</td>\n",
       "      <td>13.375213</td>\n",
       "    </tr>\n",
       "    <tr>\n",
       "      <th>std</th>\n",
       "      <td>9218.372678</td>\n",
       "      <td>40500.707305</td>\n",
       "      <td>1.858377e+07</td>\n",
       "      <td>20317.34659</td>\n",
       "      <td>8.017160</td>\n",
       "      <td>1.066680</td>\n",
       "      <td>3.237644</td>\n",
       "      <td>14.067874</td>\n",
       "      <td>8.823738</td>\n",
       "      <td>6.429740</td>\n",
       "    </tr>\n",
       "    <tr>\n",
       "      <th>min</th>\n",
       "      <td>6.000000</td>\n",
       "      <td>34.000000</td>\n",
       "      <td>2.957264e+06</td>\n",
       "      <td>-34939.00000</td>\n",
       "      <td>-4.000000</td>\n",
       "      <td>2015.000000</td>\n",
       "      <td>1.000000</td>\n",
       "      <td>1.000000</td>\n",
       "      <td>1.000000</td>\n",
       "      <td>1.000000</td>\n",
       "    </tr>\n",
       "    <tr>\n",
       "      <th>25%</th>\n",
       "      <td>1516.000000</td>\n",
       "      <td>3727.000000</td>\n",
       "      <td>5.033780e+06</td>\n",
       "      <td>12735.00000</td>\n",
       "      <td>7.000000</td>\n",
       "      <td>2015.000000</td>\n",
       "      <td>5.000000</td>\n",
       "      <td>18.000000</td>\n",
       "      <td>8.000000</td>\n",
       "      <td>11.000000</td>\n",
       "    </tr>\n",
       "    <tr>\n",
       "      <th>50%</th>\n",
       "      <td>6806.000000</td>\n",
       "      <td>19503.000000</td>\n",
       "      <td>9.941948e+06</td>\n",
       "      <td>22202.00000</td>\n",
       "      <td>13.000000</td>\n",
       "      <td>2016.000000</td>\n",
       "      <td>7.000000</td>\n",
       "      <td>30.000000</td>\n",
       "      <td>17.000000</td>\n",
       "      <td>13.375213</td>\n",
       "    </tr>\n",
       "    <tr>\n",
       "      <th>75%</th>\n",
       "      <td>15690.500000</td>\n",
       "      <td>68667.000000</td>\n",
       "      <td>3.780345e+07</td>\n",
       "      <td>37173.00000</td>\n",
       "      <td>17.000000</td>\n",
       "      <td>2017.000000</td>\n",
       "      <td>10.000000</td>\n",
       "      <td>41.000000</td>\n",
       "      <td>24.000000</td>\n",
       "      <td>19.000000</td>\n",
       "    </tr>\n",
       "    <tr>\n",
       "      <th>max</th>\n",
       "      <td>38805.000000</td>\n",
       "      <td>170619.000000</td>\n",
       "      <td>5.467247e+07</td>\n",
       "      <td>92050.00000</td>\n",
       "      <td>39.000000</td>\n",
       "      <td>2018.000000</td>\n",
       "      <td>12.000000</td>\n",
       "      <td>53.000000</td>\n",
       "      <td>31.000000</td>\n",
       "      <td>23.000000</td>\n",
       "    </tr>\n",
       "  </tbody>\n",
       "</table>\n",
       "</div>"
      ],
      "text/plain": [
       "       retweet_count  favorite_count     followers  follower_change  \\\n",
       "count   11759.000000    11759.000000  1.175900e+04      11759.00000   \n",
       "mean     9639.460683    38335.220623  2.002753e+07      28113.62263   \n",
       "std      9218.372678    40500.707305  1.858377e+07      20317.34659   \n",
       "min         6.000000       34.000000  2.957264e+06     -34939.00000   \n",
       "25%      1516.000000     3727.000000  5.033780e+06      12735.00000   \n",
       "50%      6806.000000    19503.000000  9.941948e+06      22202.00000   \n",
       "75%     15690.500000    68667.000000  3.780345e+07      37173.00000   \n",
       "max     38805.000000   170619.000000  5.467247e+07      92050.00000   \n",
       "\n",
       "             tweets          year         month          week           day  \\\n",
       "count  11759.000000  11759.000000  11759.000000  11759.000000  11759.000000   \n",
       "mean      13.635967   2016.246875      7.017604     28.794200     16.127307   \n",
       "std        8.017160      1.066680      3.237644     14.067874      8.823738   \n",
       "min       -4.000000   2015.000000      1.000000      1.000000      1.000000   \n",
       "25%        7.000000   2015.000000      5.000000     18.000000      8.000000   \n",
       "50%       13.000000   2016.000000      7.000000     30.000000     17.000000   \n",
       "75%       17.000000   2017.000000     10.000000     41.000000     24.000000   \n",
       "max       39.000000   2018.000000     12.000000     53.000000     31.000000   \n",
       "\n",
       "               hour  \n",
       "count  11759.000000  \n",
       "mean      13.375213  \n",
       "std        6.429740  \n",
       "min        1.000000  \n",
       "25%       11.000000  \n",
       "50%       13.375213  \n",
       "75%       19.000000  \n",
       "max       23.000000  "
      ]
     },
     "execution_count": 38,
     "metadata": {},
     "output_type": "execute_result"
    }
   ],
   "source": [
    "df_nulls"
   ]
  },
  {
   "cell_type": "markdown",
   "metadata": {},
   "source": [
    "### Diagrama de Caja de Bigotes #3 (Sin datos atípicos y sin valores nulos)"
   ]
  },
  {
   "cell_type": "code",
   "execution_count": 39,
   "metadata": {},
   "outputs": [
    {
     "data": {
      "image/png": "[encoded data removed]",
      "text/plain": [
       "<Figure size 1440x720 with 1 Axes>"
      ]
     },
     "metadata": {
      "needs_background": "light"
     },
     "output_type": "display_data"
    }
   ],
   "source": [
    "box_plot_3 = data_next.boxplot(rot=90, figsize=(20,10))"
   ]
  },
  {
   "cell_type": "markdown",
   "metadata": {},
   "source": [
    "### PCA (Análisis de Componentes Principales)"
   ]
  },
  {
   "cell_type": "code",
   "execution_count": null,
   "metadata": {},
   "outputs": [],
   "source": []
  }
 ],
 "metadata": {
  "kernelspec": {
   "display_name": "Python 3",
   "language": "python",
   "name": "python3"
  },
  "language_info": {
   "codemirror_mode": {
    "name": "ipython",
    "version": 3
   },
   "file_extension": ".py",
   "mimetype": "text/x-python",
   "name": "python",
   "nbconvert_exporter": "python",
   "pygments_lexer": "ipython3",
   "version": "3.8.1"
  }
 },
 "nbformat": 4,
 "nbformat_minor": 4
}
